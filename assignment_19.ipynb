{
 "cells": [
  {
   "cell_type": "code",
   "execution_count": 1,
   "metadata": {},
   "outputs": [
    {
     "name": "stdout",
     "output_type": "stream",
     "text": [
      "<__main__.Thing object at 0x10cfa8310>\n",
      "<__main__.Thing object at 0x10cfa8790>\n"
     ]
    }
   ],
   "source": [
    "#Q - 1. Make a class called Thing with no contents and print it. Then, create an object called example from this class and also print it. Are the printed values the same or different?\n",
    "#Answer:\n",
    "class Thing:\n",
    "    pass\n",
    "\n",
    "print(Thing())\n",
    "example = Thing()\n",
    "print(example)\n",
    "#we can see both printed values are different as they represent different instances of class 'Thing', each with it's unique memory address."
   ]
  },
  {
   "cell_type": "code",
   "execution_count": 2,
   "metadata": {},
   "outputs": [
    {
     "name": "stdout",
     "output_type": "stream",
     "text": [
      "abc\n"
     ]
    }
   ],
   "source": [
    "#Q - 2. Create a new class called Thing2 and add the value 'abc' to the letters class attribute. Letters should be printed.\n",
    "class Thing2:\n",
    "    letters = 'abc'\n",
    "obj1 = Thing2()\n",
    "print(obj1.letters)"
   ]
  },
  {
   "cell_type": "code",
   "execution_count": 3,
   "metadata": {},
   "outputs": [
    {
     "name": "stdout",
     "output_type": "stream",
     "text": [
      "xyz\n"
     ]
    }
   ],
   "source": [
    "#Q - Make yet another class called, of course, Thing3. This time, assign the value 'xyz' to an instance (object) attribute called letters. Print letters. Do you need to make an object from the class to do this?\n",
    "#Answer:\n",
    "class Thing3:\n",
    "    def __init__(self):\n",
    "        self.letters = 'xyz'\n",
    "obj2 = Thing3()\n",
    "print(obj2.letters)\n"
   ]
  },
  {
   "cell_type": "code",
   "execution_count": 6,
   "metadata": {},
   "outputs": [],
   "source": [
    "#Q - 4. Create an Element class with the instance attributes name, symbol, and number. Create a class object with the values 'Hydrogen' ,'H' and 1.\n",
    "#Answer:\n",
    "class Element:\n",
    "    def __init__(self,name,symbol,number):\n",
    "        self.name  = name\n",
    "        self.symbol = symbol\n",
    "        self.number = number\n",
    "obj3 = Element('Hydrogen','H',1)\n"
   ]
  },
  {
   "cell_type": "code",
   "execution_count": 7,
   "metadata": {},
   "outputs": [],
   "source": [
    "#Q - 5. Make a dictionary with these keys and values: 'name': 'Hydrogen', 'symbol': 'H', number: 1. Then, create an object called hydrogen from class Element using this dictionary.\n",
    "#Answer:\n",
    "class Element:\n",
    "    def __init__(self, name, symbol, number):\n",
    "        self.name = name\n",
    "        self.symbol = symbol\n",
    "        self.number = number\n",
    "\n",
    "dict = {'name': 'Hydrogen', 'symbol': 'H', 'number': 1}\n",
    "hydrogen = Element(**dict)\n",
    "\n",
    "\n"
   ]
  },
  {
   "cell_type": "code",
   "execution_count": 10,
   "metadata": {},
   "outputs": [
    {
     "name": "stdout",
     "output_type": "stream",
     "text": [
      "name is:  Hydrogen\n",
      "symbol is:  H\n",
      "number is:  1\n"
     ]
    }
   ],
   "source": [
    "#Q - 6. For the Element class, define a method called dump() that prints the values of the object’s attributes (name, symbol, and number). Create the hydrogen object from this new definition and use dump() to print its attributes.\n",
    "\n",
    "#Answer:\n",
    "class Element:\n",
    "    def __init__(self,name, symbol, number):\n",
    "        self.name = name\n",
    "        self.symbol = symbol\n",
    "        self.number = number\n",
    "\n",
    "\n",
    "    def dump(self):\n",
    "        print(\"name is: \",self.name )\n",
    "        print(\"symbol is: \", self.symbol)\n",
    "        print(\"number is: \", self.number)\n",
    "\n",
    "hydrogen = Element('Hydrogen','H',1)\n",
    "hydrogen.dump()\n"
   ]
  },
  {
   "cell_type": "code",
   "execution_count": 12,
   "metadata": {},
   "outputs": [
    {
     "name": "stdout",
     "output_type": "stream",
     "text": [
      "Name: Hydrogen, Symbol:H, Number:1\n",
      "Name: New Hydrogen, Symbol:NH, Number:2\n"
     ]
    }
   ],
   "source": [
    "#Q - 7. Call print(hydrogen). In the definition of Element, change the name of method dump to __str__,create a new hydrogen object, and call print(hydrogen) again.\n",
    "#Answer:\n",
    "class Element:\n",
    "    def __init__(self,name, symbol, number):\n",
    "        self.name = name\n",
    "        self.symbol = symbol\n",
    "        self.number = number\n",
    "\n",
    "\n",
    "    def __str__(self): #we use __str__() function to get string representation of the object\n",
    "        return f\"Name: {self.name}, Symbol:{self.symbol}, Number:{self.number}\"\n",
    "hydrogen = Element('Hydrogen', 'H', 1)\n",
    "print(hydrogen)\n",
    "\n",
    "new_hydrogen = Element('New Hydrogen', 'NH', 2)\n",
    "print(new_hydrogen)"
   ]
  },
  {
   "cell_type": "code",
   "execution_count": 13,
   "metadata": {},
   "outputs": [
    {
     "name": "stdout",
     "output_type": "stream",
     "text": [
      "Hydrogen\n",
      "H\n",
      "1\n"
     ]
    }
   ],
   "source": [
    "#Q - 8. Modify Element to make the attributes name, symbol, and number private. Define a getter property for each to return its value.\n",
    "#Answer:\n",
    "class Element:\n",
    "    def __init__(self, name, symbol, number):\n",
    "        self._name = name\n",
    "        self._symbol = symbol\n",
    "        self._number = number\n",
    "\n",
    "    @property\n",
    "    def name(self):\n",
    "        return self._name\n",
    "\n",
    "    @property\n",
    "    def symbol(self):\n",
    "        return self._symbol\n",
    "\n",
    "    @property\n",
    "    def number(self):\n",
    "        return self._number\n",
    "\n",
    "hydrogen = Element('Hydrogen', 'H', 1)\n",
    "print(hydrogen.name)\n",
    "print(hydrogen.symbol)\n",
    "print(hydrogen.number)"
   ]
  },
  {
   "cell_type": "code",
   "execution_count": 17,
   "metadata": {},
   "outputs": [
    {
     "name": "stdout",
     "output_type": "stream",
     "text": [
      "Bear eats  berries\n",
      "Rabbit eats  clover\n",
      "Octothorpe eats  campers\n"
     ]
    }
   ],
   "source": [
    "#Q - 9. Define three classes: Bear, Rabbit, and Octothorpe. For each, define only one method: eats(). This should return 'berries' (Bear), 'clover' (Rabbit), or 'campers' (Octothorpe). Create one object from each and print what it eats.\n",
    "#Answer:\n",
    "class Bear:\n",
    "    def eats(self):\n",
    "        return 'berries'\n",
    "\n",
    "class Rabbit:\n",
    "    def eats(self):\n",
    "        return 'clover'\n",
    "\n",
    "class Octothorpe:\n",
    "    def eats(self):\n",
    "        return 'campers'\n",
    "\n",
    "obj1 = Bear()\n",
    "print(\"Bear eats \",obj1.eats())\n",
    "obj2 = Rabbit()\n",
    "print(\"Rabbit eats \",obj2.eats())\n",
    "obj3 = Octothorpe()\n",
    "print(\"Octothorpe eats \",obj3.eats())"
   ]
  },
  {
   "cell_type": "code",
   "execution_count": 19,
   "metadata": {},
   "outputs": [
    {
     "name": "stdout",
     "output_type": "stream",
     "text": [
      "Laser does disintegrate\n",
      "Claw does crush\n",
      "SmartPhone does ring\n"
     ]
    }
   ],
   "source": [
    "#Q - 10. Define these classes: Laser, Claw, and SmartPhone. Each has only one method: does(). This returns 'disintegrate' (Laser), 'crush' (Claw), or 'ring' (SmartPhone). Then, define the class Robot that has one instance (object) of each of these. Define a does() method for the Robot that prints what its component objects do.\n",
    "#Answer:\n",
    "class Laser:\n",
    "    def does(self):\n",
    "        return 'disintegrate'\n",
    "class Claw:\n",
    "    def does(self):\n",
    "        return 'crush'\n",
    "class SmartPhone:\n",
    "    def does(self):\n",
    "        return 'ring'\n",
    "\n",
    "class Robot: #this class has an init method that creates an instance of each componenet object\n",
    "    def __init__(self):\n",
    "        self.laser = Laser()\n",
    "        self.claw = Claw()\n",
    "        self.smartphone = SmartPhone()\n",
    "\n",
    "    def does(self):\n",
    "        print(\"Laser does\", self.laser.does())\n",
    "        print(\"Claw does\", self.claw.does())\n",
    "        print(\"SmartPhone does\", self.smartphone.does())\n",
    "\n",
    "robot = Robot()\n",
    "robot.does()"
   ]
  },
  {
   "cell_type": "code",
   "execution_count": null,
   "metadata": {},
   "outputs": [],
   "source": []
  }
 ],
 "metadata": {
  "kernelspec": {
   "display_name": "Python 3.9.6 64-bit",
   "language": "python",
   "name": "python3"
  },
  "language_info": {
   "codemirror_mode": {
    "name": "ipython",
    "version": 3
   },
   "file_extension": ".py",
   "mimetype": "text/x-python",
   "name": "python",
   "nbconvert_exporter": "python",
   "pygments_lexer": "ipython3",
   "version": "3.9.6"
  },
  "orig_nbformat": 4,
  "vscode": {
   "interpreter": {
    "hash": "31f2aee4e71d21fbe5cf8b01ff0e069b9275f58929596ceb00d14d90e3e16cd6"
   }
  }
 },
 "nbformat": 4,
 "nbformat_minor": 2
}
